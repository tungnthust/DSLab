{
 "metadata": {
  "language_info": {
   "codemirror_mode": {
    "name": "ipython",
    "version": 3
   },
   "file_extension": ".py",
   "mimetype": "text/x-python",
   "name": "python",
   "nbconvert_exporter": "python",
   "pygments_lexer": "ipython3",
   "version": "3.9.4"
  },
  "orig_nbformat": 2,
  "kernelspec": {
   "name": "python394jvsc74a57bd0ac59ebe37160ed0dfa835113d9b8498d9f09ceb179beaac4002f036b9467c963",
   "display_name": "Python 3.9.4 64-bit"
  },
  "metadata": {
   "interpreter": {
    "hash": "ac59ebe37160ed0dfa835113d9b8498d9f09ceb179beaac4002f036b9467c963"
   }
  }
 },
 "nbformat": 4,
 "nbformat_minor": 2,
 "cells": [
  {
   "cell_type": "code",
   "execution_count": 4,
   "metadata": {},
   "outputs": [],
   "source": [
    "import numpy as np\n",
    "from collections import defaultdict"
   ]
  },
  {
   "cell_type": "code",
   "execution_count": 10,
   "metadata": {},
   "outputs": [],
   "source": [
    "class Member:\n",
    "    def __init__(self, r_d, label=None, doc_id=None):\n",
    "        self._r_d = r_d\n",
    "        self._label = label\n",
    "        self._doc_id = doc_id"
   ]
  },
  {
   "cell_type": "code",
   "execution_count": 11,
   "metadata": {},
   "outputs": [],
   "source": [
    "class Cluster:\n",
    "    def __init__(self):\n",
    "        self._centroid = None\n",
    "        self._members = []\n",
    "    \n",
    "    def reset_members(self):\n",
    "        self._members = []\n",
    "    \n",
    "    def add_member(self, member):\n",
    "        self._members.append(member)"
   ]
  },
  {
   "cell_type": "code",
   "execution_count": 44,
   "metadata": {},
   "outputs": [],
   "source": [
    "class Kmeans:\n",
    "    def __init__(self, num_clusters):\n",
    "        self._num_clusters = num_clusters\n",
    "        self._clusters = [Cluster() for _ in range(self._num_clusters)]\n",
    "        self._E = [] #list of centroids\n",
    "        self._S = 0 #overall similarity\n",
    "    \n",
    "    def load_data(self, data_path):\n",
    "        def sparse_to_dense(sparse_r_d, vocab_size):\n",
    "            r_d = [0.0 for _ in range(vocab_size)]\n",
    "            indices_tfidfs = sparse_r_d.split()\n",
    "            for index_tfidf in indices_tfidfs:\n",
    "                index = int(index_tfidf.split(':')[0])\n",
    "                tfidf = float(index_tfidf.split(':')[1])\n",
    "                r_d[index] = tfidf\n",
    "            return np.array(r_d)\n",
    "\n",
    "        with open(data_path) as f:\n",
    "            d_lines = f.read().splitlines()\n",
    "        with open('../datasets/20news-bydate/words_idfs.txt') as f:\n",
    "            vocab_size = len(f.read().splitlines())\n",
    "        \n",
    "        self._data = []\n",
    "        self._label_count = defaultdict(int)\n",
    "\n",
    "        for data_id, d in enumerate(d_lines):\n",
    "            features = d.split('<fff>')\n",
    "            label, doc_id = int(features[0]), int(features[1])\n",
    "            self._label_count[label] += 1\n",
    "            r_d = sparse_to_dense(sparse_r_d=features[2], vocab_size=vocab_size)\n",
    "\n",
    "            self._data.append(Member(r_d=r_d, label=label, doc_id=doc_id))\n",
    "\n",
    "\n",
    "    def random_init(self, seed_value):\n",
    "        random_sample_idxs = np.random.choice(len(self._data), self._num_clusters, replace=False)\n",
    "        self._E = [self._data[idx] for idx in random_sample_idxs]\n",
    "        for cluster_id, cluster in enumerate(self._clusters):\n",
    "            cluster._centroid = self._E[cluster_id]._r_d \n",
    "\n",
    "    def run(self, seed_value, criterion, threshold):\n",
    "        self.random_init(seed_value)\n",
    "\n",
    "        #continually update clusters until convergence\n",
    "        self._iteration = 0\n",
    "        while True:\n",
    "            #reset clusters, retain only centroids\n",
    "            for cluster in self._clusters:\n",
    "                cluster.reset_members()\n",
    "            self._new_S = 0\n",
    "            for member in self._data:\n",
    "                max_s = self.select_cluster_for(member)\n",
    "                self._new_S += max_s\n",
    "            for cluster in self._clusters:\n",
    "                self.update_centroid_of(cluster)\n",
    "            \n",
    "            self._iteration += 1\n",
    "            if self.stopping_condition(criterion, threshold):\n",
    "                break\n",
    "    \n",
    "    def select_cluster_for(self, member):\n",
    "        best_fit_cluster = None\n",
    "        max_similarity = -1\n",
    "        for cluster in self._clusters:\n",
    "            similarity = self.compute_similarity(member, cluster._centroid)\n",
    "            if similarity > max_similarity:\n",
    "                best_fit_cluster = cluster\n",
    "                max_similarity = similarity\n",
    "        best_fit_cluster.add_member(member)\n",
    "        return max_similarity\n",
    "\n",
    "    def compute_similarity(self, member, centroid):\n",
    "        dist = np.sqrt(np.sum((member._r_d - centroid) ** 2))\n",
    "        similarity = 1. / (dist + 1.)\n",
    "        return similarity\n",
    "\n",
    "    def update_centroid_of(self, cluster):\n",
    "        member_r_ds = [member._r_d for member in cluster._members]\n",
    "        aver_r_d = np.mean(member_r_ds, axis=0)\n",
    "        sqrt_sum_sqr = np.sqrt(np.sum(aver_r_d ** 2))\n",
    "        new_centroid = np.array([value / sqrt_sum_sqr for value in aver_r_d])\n",
    "\n",
    "        cluster._centroid = new_centroid\n",
    "\n",
    "    def stopping_condition(self, criterion, threshold):\n",
    "        criteria = ['centroid', 'similarity', 'max_iters']\n",
    "        assert criterion in criteria\n",
    "        if criterion == 'max_iters':\n",
    "            if self._iteration >= threshold:\n",
    "                return True\n",
    "            else:\n",
    "                return False\n",
    "        elif criterion == 'centroid':\n",
    "            E_new = [list(cluster._centroid) for cluster in self._clusters]\n",
    "            E_new_minus_E = [centroid for centroid in E_new if centroid not in self._E]\n",
    "            self._E = E_new\n",
    "            if len(E_new_minus_E) <= threshold:\n",
    "                return True\n",
    "            else:\n",
    "                return False\n",
    "        else:\n",
    "            new_S_minus_S = self._new_S - self._S\n",
    "            self._S = self._new_S\n",
    "            if new_S_minus_S <= threshold:\n",
    "                return True\n",
    "            else:\n",
    "                return False\n",
    "\n",
    "    def compute_purity(self):\n",
    "        majority_sum = 0\n",
    "        for cluster in self._clusters:\n",
    "            member_labels = [member._label for member in cluster._members]\n",
    "            max_count = max([member_labels.count(label) for label in range(20)])\n",
    "            majority_sum += max_count\n",
    "        return majority_sum * 1. / len(self._data)\n",
    "\n",
    "    def compute_NMI(self):\n",
    "        I_value, H_omega, H_C, N = 0., 0., 0., len(self._data)\n",
    "        for cluster in self._clusters:\n",
    "            wk = len(cluster._members) * 1.\n",
    "            H_omega += -wk / N * np.log10(wk / N)\n",
    "            member_labels = [member._label for member in cluster._members]\n",
    "            for label in range(20):\n",
    "                wk_cj = member_labels.count(label)\n",
    "                cj = self._label_count[label]\n",
    "                I_value += wk_cj / N * np.log10(N * wk_cj / (wk * cj) + 1e-12)\n",
    "        for label in range(20):\n",
    "            cj = self._label_count[label] * 1.\n",
    "            H_C += -cj / N * np.log10(cj / N)\n",
    "        return I_value * 2. / (H_omega + H_C)"
   ]
  },
  {
   "cell_type": "code",
   "execution_count": 52,
   "metadata": {},
   "outputs": [],
   "source": [
    "kmean = Kmeans(20)\n",
    "kmean.load_data(\"../datasets/20news-bydate/data_tf_idf.txt\")\n",
    "kmean.run(10, 'centroid', 2)"
   ]
  },
  {
   "cell_type": "code",
   "execution_count": 57,
   "metadata": {},
   "outputs": [
    {
     "output_type": "execute_result",
     "data": {
      "text/plain": [
       "0.5426904719816157"
      ]
     },
     "metadata": {},
     "execution_count": 57
    }
   ],
   "source": [
    "kmean.compute_purity()"
   ]
  },
  {
   "cell_type": "code",
   "execution_count": 8,
   "metadata": {},
   "outputs": [],
   "source": [
    "def load_data(data_path):\n",
    "        def sparse_to_dense(sparse_r_d, vocab_size):\n",
    "            r_d = [0.0 for _ in range(vocab_size)]\n",
    "            indices_tfidfs = sparse_r_d.split()\n",
    "            for index_tfidf in indices_tfidfs:\n",
    "                index = int(index_tfidf.split(':')[0])\n",
    "                tfidf = float(index_tfidf.split(':')[1])\n",
    "                r_d[index] = tfidf\n",
    "            return np.array(r_d)\n",
    "\n",
    "        with open(data_path) as f:\n",
    "            d_lines = f.read().splitlines()\n",
    "        with open('../datasets/20news-bydate/words_idfs.txt') as f:\n",
    "            vocab_size = len(f.read().splitlines())\n",
    "        \n",
    "        data = []\n",
    "        label_list = []\n",
    "\n",
    "        for data_id, d in enumerate(d_lines):\n",
    "            features = d.split('<fff>')\n",
    "            label, doc_id = int(features[0]), int(features[1])\n",
    "            r_d = sparse_to_dense(sparse_r_d=features[2], vocab_size=vocab_size)\n",
    "\n",
    "            data.append(r_d)\n",
    "            label_list.append(label)\n",
    "        return np.array(data), np.array(label_list)\n",
    "\n"
   ]
  },
  {
   "cell_type": "code",
   "execution_count": 24,
   "metadata": {},
   "outputs": [],
   "source": [
    "def cluster_with_Kmeans():\n",
    "    data, labels = load_data(\"../datasets/20news-bydate/20news-full-tfidf.txt\")\n",
    "    from sklearn.cluster import KMeans\n",
    "    from scipy.sparse import csr_matrix\n",
    "    X = csr_matrix(data)\n",
    "    print(\"======\")\n",
    "    kmeans = KMeans(\n",
    "        n_clusters=20,\n",
    "        init='random',\n",
    "        n_init=5,\n",
    "        tol=1e-3,\n",
    "        random_state=2018\n",
    "    ).fit(X)\n",
    "    pred_labels = kmeans.labels_\n",
    "    from sklearn.metrics.cluster import completeness_score\n",
    "    print(\"Completeness score: {}\".format(completeness_score(labels, pred_labels)))"
   ]
  },
  {
   "cell_type": "code",
   "execution_count": 25,
   "metadata": {},
   "outputs": [
    {
     "output_type": "stream",
     "name": "stdout",
     "text": [
      "======\n",
      "Completeness score: 0.4584830575209478\n"
     ]
    }
   ],
   "source": [
    "cluster_with_Kmeans()"
   ]
  },
  {
   "cell_type": "code",
   "execution_count": 26,
   "metadata": {},
   "outputs": [],
   "source": [
    "def compute_accuracy(predicted_y, expected_y):\n",
    "    matches = np.equal(predicted_y, expected_y)\n",
    "    accuracy = np.sum(matches.astype(float)) / expected_y.size\n",
    "    return accuracy"
   ]
  },
  {
   "cell_type": "code",
   "execution_count": 27,
   "metadata": {},
   "outputs": [],
   "source": [
    "def classifying_with_linear_SVMs():\n",
    "    train_X, train_Y = load_data(\"../datasets/20news-bydate/20news-train-tfidf.txt\")\n",
    "    from sklearn.svm import LinearSVC\n",
    "    classifier = LinearSVC(\n",
    "        C=10.0,\n",
    "        tol=0.001,\n",
    "        verbose=True\n",
    "    )\n",
    "    classifier.fit(train_X, train_Y)\n",
    "    test_X, test_y = load_data(\"../datasets/20news-bydate/20news-test-tfidf.txt\")\n",
    "    predicted_y = classifier.predict(test_X)\n",
    "    accuracy = compute_accuracy(predicted_y=predicted_y, expected_y=test_y)\n",
    "    print(\"Accuracy: \", accuracy)"
   ]
  },
  {
   "cell_type": "code",
   "execution_count": 28,
   "metadata": {},
   "outputs": [
    {
     "output_type": "stream",
     "name": "stdout",
     "text": [
      "[LibLinear]Accuracy:  0.8139936271906533\n"
     ]
    }
   ],
   "source": [
    "classifying_with_linear_SVMs()"
   ]
  },
  {
   "cell_type": "code",
   "execution_count": null,
   "metadata": {},
   "outputs": [],
   "source": []
  }
 ]
}