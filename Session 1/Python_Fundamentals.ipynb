{
 "metadata": {
  "language_info": {
   "codemirror_mode": {
    "name": "ipython",
    "version": 3
   },
   "file_extension": ".py",
   "mimetype": "text/x-python",
   "name": "python",
   "nbconvert_exporter": "python",
   "pygments_lexer": "ipython3",
   "version": "3.9.4-final"
  },
  "orig_nbformat": 2,
  "kernelspec": {
   "name": "python394jvsc74a57bd0ac59ebe37160ed0dfa835113d9b8498d9f09ceb179beaac4002f036b9467c963",
   "display_name": "Python 3.9.4 64-bit"
  },
  "metadata": {
   "interpreter": {
    "hash": "ac59ebe37160ed0dfa835113d9b8498d9f09ceb179beaac4002f036b9467c963"
   }
  }
 },
 "nbformat": 4,
 "nbformat_minor": 2,
 "cells": [
  {
   "source": [
    "## 1.Giống và khác"
   ],
   "cell_type": "markdown",
   "metadata": {}
  },
  {
   "cell_type": "code",
   "execution_count": 4,
   "metadata": {},
   "outputs": [
    {
     "output_type": "stream",
     "name": "stdout",
     "text": [
      "Python\n"
     ]
    }
   ],
   "source": [
    "x = 1\n",
    "x = 'Python'\n",
    "print(x)"
   ]
  },
  {
   "cell_type": "code",
   "execution_count": 5,
   "metadata": {},
   "outputs": [
    {
     "output_type": "stream",
     "name": "stdout",
     "text": [
      "81\n"
     ]
    }
   ],
   "source": [
    "print(3**4)"
   ]
  },
  {
   "cell_type": "code",
   "execution_count": 7,
   "metadata": {},
   "outputs": [
    {
     "output_type": "stream",
     "name": "stdout",
     "text": [
      "python\n"
     ]
    }
   ],
   "source": [
    "print(\"python\")"
   ]
  },
  {
   "source": [
    "## 2.Kiểu dữ liệu"
   ],
   "cell_type": "markdown",
   "metadata": {}
  },
  {
   "cell_type": "code",
   "execution_count": 8,
   "metadata": {},
   "outputs": [
    {
     "output_type": "stream",
     "name": "stdout",
     "text": [
      "3.0\n"
     ]
    }
   ],
   "source": [
    "#Tự động chuyển đổi kiểu\n",
    "a = 1\n",
    "b = 2.0\n",
    "c = a + b\n",
    "print(c)"
   ]
  },
  {
   "cell_type": "code",
   "execution_count": 9,
   "metadata": {},
   "outputs": [
    {
     "output_type": "stream",
     "name": "stdout",
     "text": [
      "2021.0 2021\n"
     ]
    }
   ],
   "source": [
    "#Ép kiểu\n",
    "#string -> number\n",
    "float_number = float('2021')\n",
    "int_number = int('2021')\n",
    "print(float_number, int_number)"
   ]
  },
  {
   "cell_type": "code",
   "execution_count": 10,
   "metadata": {},
   "outputs": [],
   "source": [
    "#number->string\n",
    "year = str(2021)"
   ]
  },
  {
   "cell_type": "code",
   "execution_count": 15,
   "metadata": {},
   "outputs": [
    {
     "output_type": "stream",
     "name": "stdout",
     "text": [
      "Summer 2021\n*****\nData Science 2021\n"
     ]
    }
   ],
   "source": [
    "#Thao tác với string\n",
    "name = 'Summer ' + str(2021)\n",
    "print(name)\n",
    "name = '*' * 5\n",
    "print(name)\n",
    "name = 'Data {} {}'.format('Science', 2021);\n",
    "print(name)"
   ]
  },
  {
   "cell_type": "code",
   "execution_count": 2,
   "metadata": {},
   "outputs": [
    {
     "output_type": "stream",
     "name": "stdout",
     "text": [
      "['Data', 'Science', '2021']\n['Data', 'Science', '2021']\n"
     ]
    }
   ],
   "source": [
    "#Split\n",
    "list_1 = 'Data Science 2021'.split()\n",
    "list_2 = 'Data--Science--2021'.split('--')\n",
    "print(list_1)\n",
    "print(list_2)"
   ]
  },
  {
   "cell_type": "code",
   "execution_count": 3,
   "metadata": {},
   "outputs": [
    {
     "output_type": "stream",
     "name": "stdout",
     "text": [
      "Data--Science--2021\n"
     ]
    }
   ],
   "source": [
    "#Join\n",
    "list_1 = ['Data', 'Science', '2021']\n",
    "name = '--'.join(list_1)\n",
    "print(name)"
   ]
  },
  {
   "cell_type": "code",
   "execution_count": 4,
   "metadata": {},
   "outputs": [
    {
     "output_type": "execute_result",
     "data": {
      "text/plain": [
       "'Data Sci-nc-'"
      ]
     },
     "metadata": {},
     "execution_count": 4
    }
   ],
   "source": [
    "#Replace \n",
    "'Data Science'.replace('e', '-')"
   ]
  },
  {
   "cell_type": "code",
   "execution_count": 9,
   "metadata": {},
   "outputs": [
    {
     "output_type": "stream",
     "name": "stdout",
     "text": [
      "a: True, b: False, c: False\n"
     ]
    }
   ],
   "source": [
    "#Isspace\n",
    "a = ' '.isspace()\n",
    "b = '/t/t'.isspace()\n",
    "c = '-'.isspace()\n",
    "print(\"a: {}, b: {}, c: {}\".format(a, b, c))"
   ]
  },
  {
   "cell_type": "code",
   "execution_count": 10,
   "metadata": {},
   "outputs": [
    {
     "output_type": "stream",
     "name": "stdout",
     "text": [
      "a: True, b: False\n"
     ]
    }
   ],
   "source": [
    "#Isalpha\n",
    "a = 'abcde'.isalpha()\n",
    "b = 'abcd123'.isalpha()\n",
    "print(\"a: {}, b: {}\".format(a, b))"
   ]
  },
  {
   "cell_type": "code",
   "execution_count": 11,
   "metadata": {},
   "outputs": [
    {
     "output_type": "stream",
     "name": "stdout",
     "text": [
      "a: True, b: False\n"
     ]
    }
   ],
   "source": [
    "#Isdigit\n",
    "a = '123'.isdigit()\n",
    "b = 'abcd123'.isdigit()\n",
    "print(\"a: {}, b: {}\".format(a, b))"
   ]
  },
  {
   "cell_type": "code",
   "execution_count": 17,
   "metadata": {},
   "outputs": [
    {
     "output_type": "execute_result",
     "data": {
      "text/plain": [
       "[0, 2, 4, 6, 8]"
      ]
     },
     "metadata": {},
     "execution_count": 17
    }
   ],
   "source": [
    "#Kiểu list\n",
    "#Initialization\n",
    "list_a = [1,2,3,4,5]\n",
    "list_b = range(5) #[0,1,2,3,4]\n",
    "list_c = range(1,10,2) #[1,3,5,7,9]\n",
    "list_d = range(5,1,-1) #[5,4,3,2]\n",
    "list_e = [x for x in range(10) if x % 2 == 0]\n",
    "list_e"
   ]
  },
  {
   "cell_type": "code",
   "execution_count": 19,
   "metadata": {},
   "outputs": [
    {
     "output_type": "execute_result",
     "data": {
      "text/plain": [
       "['Data', 'Science', 2021]"
      ]
     },
     "metadata": {},
     "execution_count": 19
    }
   ],
   "source": [
    "list_f = []\n",
    "list_f.append('Data')\n",
    "list_f.append('Science')\n",
    "list_f.append(2021)\n",
    "list_f"
   ]
  },
  {
   "cell_type": "code",
   "execution_count": 31,
   "metadata": {},
   "outputs": [],
   "source": [
    "#Retrieve elements from list\n",
    "src = range(10)\n",
    "a = src[:7]\n",
    "b = src[3:]\n",
    "c = src[3:7]\n",
    "d = src[:-1]\n",
    "e = src[:-2]"
   ]
  },
  {
   "cell_type": "code",
   "execution_count": 23,
   "metadata": {},
   "outputs": [],
   "source": [
    "#Get number of elements\n",
    "length = len(src)"
   ]
  },
  {
   "cell_type": "code",
   "execution_count": 24,
   "metadata": {},
   "outputs": [
    {
     "output_type": "stream",
     "name": "stdout",
     "text": [
      "0 Data\n1 Science\n2 2021\n"
     ]
    }
   ],
   "source": [
    "src = ['Data', 'Science', 2021]\n",
    "for index, element in enumerate(src):\n",
    "    print(index, element)"
   ]
  },
  {
   "cell_type": "code",
   "execution_count": 25,
   "metadata": {},
   "outputs": [
    {
     "output_type": "stream",
     "name": "stdout",
     "text": [
      "exp_1: True, exp_2: False\n"
     ]
    }
   ],
   "source": [
    "#Check existence\n",
    "exp_1 = 'Data' in src\n",
    "exp_2 = 2021 not in src\n",
    "print('exp_1: {}, exp_2: {}'.format(exp_1,exp_2))"
   ]
  },
  {
   "cell_type": "code",
   "execution_count": 1,
   "metadata": {},
   "outputs": [
    {
     "output_type": "stream",
     "name": "stdout",
     "text": [
      "[(1, 'D'), (2, 'C'), (3, 'A'), (4, 'B')]\n"
     ]
    }
   ],
   "source": [
    "#Sort a list\n",
    "src = [(3, 'A'), (2, 'C'), (1, 'D'), (4, 'B')]\n",
    "src.sort()\n",
    "print(src)"
   ]
  },
  {
   "cell_type": "code",
   "execution_count": 6,
   "metadata": {},
   "outputs": [
    {
     "output_type": "execute_result",
     "data": {
      "text/plain": [
       "[(4, 'B'), (3, 'A'), (2, 'C'), (1, 'D')]"
      ]
     },
     "metadata": {},
     "execution_count": 6
    }
   ],
   "source": [
    "src.sort(key=lambda tuple: -tuple[0])\n",
    "src"
   ]
  },
  {
   "cell_type": "code",
   "execution_count": 42,
   "metadata": {},
   "outputs": [
    {
     "output_type": "execute_result",
     "data": {
      "text/plain": [
       "[1, 2, 3, 5]"
      ]
     },
     "metadata": {},
     "execution_count": 42
    }
   ],
   "source": [
    "#Delete an element\n",
    "src = [1,2,3,4,5]\n",
    "del src[3]\n",
    "src"
   ]
  },
  {
   "cell_type": "code",
   "execution_count": 47,
   "metadata": {},
   "outputs": [
    {
     "output_type": "stream",
     "name": "stdout",
     "text": [
      "(1, 'A', 'x')\n(2, 'B', 'y')\n(3, 'C', 'z')\n"
     ]
    }
   ],
   "source": [
    "#Merge lists\n",
    "a = [1,2,3,4,5]\n",
    "b = ['A','B','C','D']\n",
    "c = ['x','y','z']\n",
    "d = zip(a,b,c)\n",
    "for e in d:\n",
    "    print(e)"
   ]
  },
  {
   "cell_type": "code",
   "execution_count": 48,
   "metadata": {},
   "outputs": [
    {
     "output_type": "error",
     "ename": "TypeError",
     "evalue": "'tuple' object does not support item assignment",
     "traceback": [
      "\u001b[1;31m---------------------------------------------------------------------------\u001b[0m",
      "\u001b[1;31mTypeError\u001b[0m                                 Traceback (most recent call last)",
      "\u001b[1;32m<ipython-input-48-77cf5a1e4b0d>\u001b[0m in \u001b[0;36m<module>\u001b[1;34m\u001b[0m\n\u001b[0;32m      1\u001b[0m \u001b[1;31m#Kiểu tuple\u001b[0m\u001b[1;33m\u001b[0m\u001b[1;33m\u001b[0m\u001b[1;33m\u001b[0m\u001b[0m\n\u001b[0;32m      2\u001b[0m \u001b[0msrc\u001b[0m \u001b[1;33m=\u001b[0m \u001b[1;33m(\u001b[0m\u001b[1;36m1\u001b[0m\u001b[1;33m,\u001b[0m\u001b[1;36m2\u001b[0m\u001b[1;33m,\u001b[0m\u001b[1;36m3\u001b[0m\u001b[1;33m)\u001b[0m\u001b[1;33m\u001b[0m\u001b[1;33m\u001b[0m\u001b[0m\n\u001b[1;32m----> 3\u001b[1;33m \u001b[0msrc\u001b[0m\u001b[1;33m[\u001b[0m\u001b[1;36m2\u001b[0m\u001b[1;33m]\u001b[0m \u001b[1;33m=\u001b[0m \u001b[1;36m5\u001b[0m\u001b[1;33m\u001b[0m\u001b[1;33m\u001b[0m\u001b[0m\n\u001b[0m",
      "\u001b[1;31mTypeError\u001b[0m: 'tuple' object does not support item assignment"
     ]
    }
   ],
   "source": [
    "#Kiểu tuple\n",
    "src = (1,2,3)\n",
    "src[2] = 5 #immutable object"
   ]
  },
  {
   "cell_type": "code",
   "execution_count": 49,
   "metadata": {},
   "outputs": [],
   "source": [
    "src = [(20, 7, 'Session 1'), (21, 7, 'Session 2')]"
   ]
  },
  {
   "cell_type": "code",
   "execution_count": 51,
   "metadata": {},
   "outputs": [
    {
     "output_type": "execute_result",
     "data": {
      "text/plain": [
       "[1, 2, 3]"
      ]
     },
     "metadata": {},
     "execution_count": 51
    }
   ],
   "source": [
    "#Kiểu set\n",
    "src = [1,1,1,1,1,2,2,2,2,3,3,3,3,3]\n",
    "reduced_list = list(set(src))\n",
    "reduced_list"
   ]
  },
  {
   "cell_type": "code",
   "execution_count": 52,
   "metadata": {},
   "outputs": [
    {
     "output_type": "execute_result",
     "data": {
      "text/plain": [
       "{'A': 1, 'B': 2}"
      ]
     },
     "metadata": {},
     "execution_count": 52
    }
   ],
   "source": [
    "#Kiểu dictionary\n",
    "#Initialize\n",
    "dict = {}\n",
    "dict['A'] = 1\n",
    "dict['B'] = 2\n",
    "dict"
   ]
  },
  {
   "cell_type": "code",
   "execution_count": 53,
   "metadata": {},
   "outputs": [
    {
     "output_type": "execute_result",
     "data": {
      "text/plain": [
       "True"
      ]
     },
     "metadata": {},
     "execution_count": 53
    }
   ],
   "source": [
    "'A' in dict"
   ]
  },
  {
   "cell_type": "code",
   "execution_count": 54,
   "metadata": {},
   "outputs": [
    {
     "output_type": "execute_result",
     "data": {
      "text/plain": [
       "False"
      ]
     },
     "metadata": {},
     "execution_count": 54
    }
   ],
   "source": [
    "'C' in dict"
   ]
  },
  {
   "cell_type": "code",
   "execution_count": 55,
   "metadata": {},
   "outputs": [
    {
     "output_type": "execute_result",
     "data": {
      "text/plain": [
       "dict_keys(['A', 'B'])"
      ]
     },
     "metadata": {},
     "execution_count": 55
    }
   ],
   "source": [
    "dict.keys()"
   ]
  },
  {
   "cell_type": "code",
   "execution_count": 56,
   "metadata": {},
   "outputs": [
    {
     "output_type": "execute_result",
     "data": {
      "text/plain": [
       "dict_values([1, 2])"
      ]
     },
     "metadata": {},
     "execution_count": 56
    }
   ],
   "source": [
    "dict.values()"
   ]
  },
  {
   "source": [
    "## 3.If statement"
   ],
   "cell_type": "markdown",
   "metadata": {}
  },
  {
   "cell_type": "code",
   "execution_count": 57,
   "metadata": {},
   "outputs": [
    {
     "output_type": "stream",
     "name": "stdout",
     "text": [
      "Two\n"
     ]
    }
   ],
   "source": [
    "a = False\n",
    "b = 1\n",
    "if a and b != 1:\n",
    "    print('One')\n",
    "elif b == 1:\n",
    "    print('Two')\n",
    "else:\n",
    "    print('Three')"
   ]
  },
  {
   "source": [
    "## 4. Loop"
   ],
   "cell_type": "markdown",
   "metadata": {}
  },
  {
   "cell_type": "code",
   "execution_count": 58,
   "metadata": {},
   "outputs": [
    {
     "output_type": "stream",
     "name": "stdout",
     "text": [
      "0\n1\n2\n3\n4\n5\n6\n7\n8\n9\n"
     ]
    }
   ],
   "source": [
    "src = range(10)\n",
    "for i in src:\n",
    "    print(i)"
   ]
  },
  {
   "cell_type": "code",
   "execution_count": 60,
   "metadata": {},
   "outputs": [
    {
     "output_type": "stream",
     "name": "stdout",
     "text": [
      "0\n1\n2\n3\n4\n5\n6\n7\n8\n9\n"
     ]
    }
   ],
   "source": [
    "i = 0\n",
    "while i < len(src):\n",
    "    print(src[i])\n",
    "    i += 1"
   ]
  },
  {
   "source": [
    "## 5. File manipulation"
   ],
   "cell_type": "markdown",
   "metadata": {}
  },
  {
   "cell_type": "code",
   "execution_count": 63,
   "metadata": {},
   "outputs": [
    {
     "output_type": "stream",
     "name": "stdout",
     "text": [
      "Hello world from a file\n"
     ]
    }
   ],
   "source": [
    "#Read file\n",
    "with open('file.txt') as f:\n",
    "    content = f.read()\n",
    "print(content)"
   ]
  },
  {
   "cell_type": "code",
   "execution_count": 64,
   "metadata": {},
   "outputs": [],
   "source": [
    "#Write to a file\n",
    "with open('file.txt', 'w') as f:\n",
    "    content = f.write('Data Science Lab')"
   ]
  },
  {
   "source": [
    "## 6. Exception Handler"
   ],
   "cell_type": "markdown",
   "metadata": {}
  },
  {
   "cell_type": "code",
   "execution_count": 65,
   "metadata": {},
   "outputs": [
    {
     "output_type": "stream",
     "name": "stdout",
     "text": [
      "Division by zero occurs\n"
     ]
    }
   ],
   "source": [
    "try:\n",
    "    division = 10/0\n",
    "except ZeroDivisionError:\n",
    "    print(\"Division by zero occurs\")"
   ]
  },
  {
   "source": [
    "## 7. Assert"
   ],
   "cell_type": "markdown",
   "metadata": {}
  },
  {
   "cell_type": "code",
   "execution_count": 68,
   "metadata": {},
   "outputs": [
    {
     "output_type": "error",
     "ename": "AssertionError",
     "evalue": "Division by zero",
     "traceback": [
      "\u001b[1;31m---------------------------------------------------------------------------\u001b[0m",
      "\u001b[1;31mAssertionError\u001b[0m                            Traceback (most recent call last)",
      "\u001b[1;32m<ipython-input-68-cdf84effbcbf>\u001b[0m in \u001b[0;36m<module>\u001b[1;34m\u001b[0m\n\u001b[0;32m      1\u001b[0m \u001b[0ma\u001b[0m \u001b[1;33m=\u001b[0m \u001b[1;36m5\u001b[0m\u001b[1;33m\u001b[0m\u001b[1;33m\u001b[0m\u001b[0m\n\u001b[0;32m      2\u001b[0m \u001b[0mb\u001b[0m \u001b[1;33m=\u001b[0m \u001b[1;36m0\u001b[0m\u001b[1;33m\u001b[0m\u001b[1;33m\u001b[0m\u001b[0m\n\u001b[1;32m----> 3\u001b[1;33m \u001b[1;32massert\u001b[0m \u001b[0mb\u001b[0m \u001b[1;33m!=\u001b[0m \u001b[1;36m0\u001b[0m \u001b[1;33m,\u001b[0m \u001b[1;34m\"Division by zero\"\u001b[0m\u001b[1;33m\u001b[0m\u001b[1;33m\u001b[0m\u001b[0m\n\u001b[0m\u001b[0;32m      4\u001b[0m \u001b[0mc\u001b[0m \u001b[1;33m=\u001b[0m \u001b[0ma\u001b[0m \u001b[1;33m/\u001b[0m \u001b[0mb\u001b[0m\u001b[1;33m\u001b[0m\u001b[1;33m\u001b[0m\u001b[0m\n",
      "\u001b[1;31mAssertionError\u001b[0m: Division by zero"
     ]
    }
   ],
   "source": [
    "a = 5\n",
    "b = 0\n",
    "assert b != 0 , \"Division by zero\"\n",
    "c = a / b"
   ]
  },
  {
   "source": [
    "## 8. Function"
   ],
   "cell_type": "markdown",
   "metadata": {}
  },
  {
   "cell_type": "code",
   "execution_count": 69,
   "metadata": {},
   "outputs": [
    {
     "output_type": "stream",
     "name": "stdout",
     "text": [
      "8\n"
     ]
    }
   ],
   "source": [
    "#Define a function\n",
    "def do_sum(a, b):\n",
    "    return a + b\n",
    "print(do_sum(3, 5))"
   ]
  },
  {
   "cell_type": "code",
   "execution_count": 70,
   "metadata": {},
   "outputs": [
    {
     "output_type": "stream",
     "name": "stdout",
     "text": [
      "8\n"
     ]
    }
   ],
   "source": [
    "#Parameters with default value\n",
    "def do_sum(a, b = 5):\n",
    "    return a + b\n",
    "print(do_sum(3))"
   ]
  },
  {
   "cell_type": "code",
   "execution_count": 72,
   "metadata": {},
   "outputs": [
    {
     "output_type": "execute_result",
     "data": {
      "text/plain": [
       "7"
      ]
     },
     "metadata": {},
     "execution_count": 72
    }
   ],
   "source": [
    "#Nested function\n",
    "def do_sum(a, b):\n",
    "    def decrease(value):\n",
    "        return value - 1\n",
    "    return decrease(a + b)\n",
    "do_sum(3, 5)"
   ]
  },
  {
   "source": [
    "## 9. OOP"
   ],
   "cell_type": "markdown",
   "metadata": {}
  },
  {
   "cell_type": "code",
   "execution_count": 74,
   "metadata": {},
   "outputs": [],
   "source": [
    "class Person:\n",
    "    def __init__(self, name, age, phone):\n",
    "        self._name = name\n",
    "        self._age = age\n",
    "        self._phone = phone\n",
    "        self._selected_items = []\n",
    "    \n",
    "    def select(self, item):\n",
    "        self._selected_items.append(item)\n",
    "    \n",
    "    def get_info(self):\n",
    "        return 'Name: {}\\nAge: {}\\nPhone number: {}\\n'.format(self._name, self._age, self._phone)"
   ]
  },
  {
   "cell_type": "code",
   "execution_count": 75,
   "metadata": {},
   "outputs": [
    {
     "output_type": "stream",
     "name": "stdout",
     "text": [
      "['Book', 'Pen']\nName: Nam\nAge: 18\nPhone number: 123456\n\n"
     ]
    }
   ],
   "source": [
    "nam = Person('Nam', 18, 123456)\n",
    "nam.select('Book')\n",
    "nam.select('Pen')\n",
    "print(nam._selected_items)\n",
    "print(nam.get_info())"
   ]
  },
  {
   "source": [
    "## 10. Numpy"
   ],
   "cell_type": "markdown",
   "metadata": {}
  },
  {
   "cell_type": "code",
   "execution_count": 77,
   "metadata": {},
   "outputs": [],
   "source": [
    "import numpy as np"
   ]
  },
  {
   "cell_type": "code",
   "execution_count": 89,
   "metadata": {},
   "outputs": [
    {
     "output_type": "execute_result",
     "data": {
      "text/plain": [
       "array([1, 2, 3])"
      ]
     },
     "metadata": {},
     "execution_count": 89
    }
   ],
   "source": [
    "np_array_1 = np.array([1,2,3])\n",
    "np_array_1"
   ]
  },
  {
   "cell_type": "code",
   "execution_count": 87,
   "metadata": {},
   "outputs": [],
   "source": [
    "np_array_2 = np.array(\n",
    "    [\n",
    "        [1,2,3],\n",
    "        [4,5,6],\n",
    "        [7,8,9]\n",
    "    ]\n",
    ")"
   ]
  },
  {
   "cell_type": "code",
   "execution_count": 88,
   "metadata": {},
   "outputs": [
    {
     "output_type": "execute_result",
     "data": {
      "text/plain": [
       "array([[1, 2, 3],\n",
       "       [4, 5, 6],\n",
       "       [7, 8, 9]])"
      ]
     },
     "metadata": {},
     "execution_count": 88
    }
   ],
   "source": [
    "np_array_2"
   ]
  },
  {
   "cell_type": "code",
   "execution_count": 90,
   "metadata": {},
   "outputs": [
    {
     "output_type": "execute_result",
     "data": {
      "text/plain": [
       "array([[ 2,  4,  6],\n",
       "       [ 5,  7,  9],\n",
       "       [ 8, 10, 12]])"
      ]
     },
     "metadata": {},
     "execution_count": 90
    }
   ],
   "source": [
    "#Add\n",
    "np_array_1 + np_array_2"
   ]
  },
  {
   "cell_type": "code",
   "execution_count": 91,
   "metadata": {},
   "outputs": [
    {
     "output_type": "execute_result",
     "data": {
      "text/plain": [
       "array([[ 0,  0,  0],\n",
       "       [-3, -3, -3],\n",
       "       [-6, -6, -6]])"
      ]
     },
     "metadata": {},
     "execution_count": 91
    }
   ],
   "source": [
    "#Subtract\n",
    "np_array_1 - np_array_2"
   ]
  },
  {
   "cell_type": "code",
   "execution_count": 92,
   "metadata": {},
   "outputs": [
    {
     "output_type": "execute_result",
     "data": {
      "text/plain": [
       "array([30, 36, 42])"
      ]
     },
     "metadata": {},
     "execution_count": 92
    }
   ],
   "source": [
    "np_array_1.dot(np_array_2)"
   ]
  },
  {
   "cell_type": "code",
   "execution_count": 93,
   "metadata": {},
   "outputs": [
    {
     "output_type": "execute_result",
     "data": {
      "text/plain": [
       "array([[1.        , 1.        , 1.        ],\n",
       "       [0.25      , 0.4       , 0.5       ],\n",
       "       [0.14285714, 0.25      , 0.33333333]])"
      ]
     },
     "metadata": {},
     "execution_count": 93
    }
   ],
   "source": [
    "np_array_1 / np_array_2"
   ]
  },
  {
   "cell_type": "code",
   "execution_count": 95,
   "metadata": {},
   "outputs": [
    {
     "output_type": "execute_result",
     "data": {
      "text/plain": [
       "array([[1, 4, 7],\n",
       "       [2, 5, 8],\n",
       "       [3, 6, 9]])"
      ]
     },
     "metadata": {},
     "execution_count": 95
    }
   ],
   "source": [
    "np_array_2.transpose()"
   ]
  },
  {
   "cell_type": "code",
   "execution_count": 97,
   "metadata": {},
   "outputs": [],
   "source": [
    "np_array = np.array([\n",
    "    [1, 5],\n",
    "    [2, 6]\n",
    "])"
   ]
  },
  {
   "cell_type": "code",
   "execution_count": 98,
   "metadata": {},
   "outputs": [
    {
     "output_type": "execute_result",
     "data": {
      "text/plain": [
       "array([[-1.5 ,  1.25],\n",
       "       [ 0.5 , -0.25]])"
      ]
     },
     "metadata": {},
     "execution_count": 98
    }
   ],
   "source": [
    "np.linalg.inv(np_array)"
   ]
  },
  {
   "cell_type": "code",
   "execution_count": null,
   "metadata": {},
   "outputs": [],
   "source": []
  }
 ]
}